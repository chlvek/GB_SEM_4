{
 "cells": [
  {
   "cell_type": "markdown",
   "id": "2422594e",
   "metadata": {},
   "source": [
    "# f(x) = x2 - 6*abs(x) + 8"
   ]
  },
  {
   "cell_type": "markdown",
   "id": "681e2f14",
   "metadata": {},
   "source": [
    "**1. Определить корни**"
   ]
  },
  {
   "cell_type": "code",
   "execution_count": 22,
   "id": "9a363dac",
   "metadata": {},
   "outputs": [
    {
     "data": {
      "text/plain": [
       "[-4, -2, 2, 4]"
      ]
     },
     "execution_count": 22,
     "metadata": {},
     "output_type": "execute_result"
    }
   ],
   "source": [
    "from sympy import *\n",
    "x = Symbol('x', real = True)\n",
    "y = x**2 - 6*abs(x) + 8\n",
    "roots = solve(y,x)\n",
    "roots"
   ]
  },
  {
   "cell_type": "markdown",
   "id": "efd9b0f0",
   "metadata": {},
   "source": [
    "**4. Построить график**"
   ]
  },
  {
   "cell_type": "code",
   "execution_count": 41,
   "id": "b57d3b2a",
   "metadata": {},
   "outputs": [
    {
     "data": {
      "image/png": "[encoded data removed]",
      "text/plain": [
       "<Figure size 432x288 with 1 Axes>"
      ]
     },
     "metadata": {
      "needs_background": "light"
     },
     "output_type": "display_data"
    },
    {
     "data": {
      "text/plain": [
       "<sympy.plotting.plot.Plot at 0x1104cd130>"
      ]
     },
     "execution_count": 41,
     "metadata": {},
     "output_type": "execute_result"
    }
   ],
   "source": [
    "plot(y)"
   ]
  },
  {
   "cell_type": "markdown",
   "id": "898aac08",
   "metadata": {},
   "source": [
    "**5. Вычислить вершину**"
   ]
  },
  {
   "cell_type": "code",
   "execution_count": 47,
   "id": "49900a70",
   "metadata": {},
   "outputs": [],
   "source": [
    "derivate = diff(y,x)\n",
    "derivate_roots = solve(derivate)\n",
    "if len(derivate_roots) == 1:\n",
    "    max_root = derivate_roots[0]\n",
    "    min_root = -(derivate_roots[0])"
   ]
  },
  {
   "cell_type": "code",
   "execution_count": 48,
   "id": "31a878c1",
   "metadata": {},
   "outputs": [
    {
     "name": "stdout",
     "output_type": "stream",
     "text": [
      "-1\n"
     ]
    }
   ],
   "source": [
    "high_max = y.subs(x,max_root)\n",
    "high_min = y.subs(x,min_root)\n",
    "if high_max == high_min:\n",
    "    print(high_max)"
   ]
  },
  {
   "cell_type": "markdown",
   "id": "6fc21bca",
   "metadata": {},
   "source": [
    "**2-3. Найти интервалы, на которых функция возрастает и убывает + \n",
    "6-7. Определить промежутки, на котором f > 0 и  f < 0** "
   ]
  },
  {
   "cell_type": "code",
   "execution_count": 55,
   "id": "313f0a57",
   "metadata": {},
   "outputs": [
    {
     "name": "stdout",
     "output_type": "stream",
     "text": [
      "F(x) is decreasing in Interval(-oo, -4) and > 0\n",
      "F(x) is increasing in Interval(-4, -2) and < 0\n",
      "F(x) is decreasing in Interval(-2, 2) and > 0\n",
      "F(x) is increasing in Interval(4, oo) and < 0\n"
     ]
    }
   ],
   "source": [
    "for i in range(0,(len(roots))):\n",
    "    if i == 0:\n",
    "        if is_increasing(y,Interval(-oo,roots[i])):\n",
    "            print(f\"F(x) is increasing in {Interval(-oo,roots[i])} and < 0\")\n",
    "        else:\n",
    "            print(f\"F(x) is decreasing in {Interval(-oo,roots[i])} and > 0\")\n",
    "    elif i == 3:\n",
    "        if is_increasing(y,Interval(roots[i],+oo)):\n",
    "            print(f\"F(x) is increasing in {Interval(roots[i],+oo)} and < 0\")\n",
    "        else:\n",
    "            print(f\"F(x) is decreasing in {Interval(roots[i],+oo)} and > 0\")\n",
    "    else:\n",
    "        if is_increasing(y,Interval(roots[i-1]+1,roots[i])):\n",
    "            print(f\"F(x) is increasing in {Interval(roots[i-1],roots[i])} and < 0\")\n",
    "        else:\n",
    "            print(f\"F(x) is decreasing in {Interval(roots[i-1],roots[i])} and > 0\")"
   ]
  },
  {
   "cell_type": "code",
   "execution_count": null,
   "id": "5b849536",
   "metadata": {},
   "outputs": [],
   "source": []
  }
 ],
 "metadata": {
  "kernelspec": {
   "display_name": "Python 3 (ipykernel)",
   "language": "python",
   "name": "python3"
  },
  "language_info": {
   "codemirror_mode": {
    "name": "ipython",
    "version": 3
   },
   "file_extension": ".py",
   "mimetype": "text/x-python",
   "name": "python",
   "nbconvert_exporter": "python",
   "pygments_lexer": "ipython3",
   "version": "3.9.7"
  }
 },
 "nbformat": 4,
 "nbformat_minor": 5
}
